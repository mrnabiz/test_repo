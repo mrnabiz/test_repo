{
 "cells": [
  {
   "cell_type": "markdown",
   "id": "900373b6",
   "metadata": {},
   "source": [
    "![image.png](https://upload.wikimedia.org/wikipedia/en/thumb/e/e1/Eurovision_Song_Contest.svg/500px-Eurovision_Song_Contest.svg.png)\n",
    "\n",
    "Eurovision logo since 2015 [Source](https://en.wikipedia.org/wiki/Eurovision_Song_Contest)"
   ]
  },
  {
   "cell_type": "code",
   "execution_count": 1,
   "id": "3626669f-e2d5-4933-a489-57fa405e72aa",
   "metadata": {},
   "outputs": [
    {
     "data": {
      "text/plain": [
       "DataTransformerRegistry.enable('data_server')"
      ]
     },
     "execution_count": 1,
     "metadata": {},
     "output_type": "execute_result"
    }
   ],
   "source": [
    "# Relative imports\n",
    "import pandas as pd\n",
    "import altair as alt\n",
    "from pandas_profiling import ProfileReport\n",
    "\n",
    "# Save a vega-lite spec and a PNG blob for each plot in the notebook\n",
    "alt.renderers.enable('mimetype')\n",
    "# Handle large data sets without embedding them in the notebook\n",
    "alt.data_transformers.enable('data_server')"
   ]
  },
  {
   "cell_type": "markdown",
   "id": "2a9efce6-a2d3-423d-b67a-fcbd73dc82ac",
   "metadata": {},
   "source": [
    "# Exploratory data analysis of Eurovision Song Contest\n",
    "## About Eurovision\n",
    "\"I remember spending four fun hours every year, watching Eurovision contest live, when I was a teenager.\"\n",
    "The Eurovision Song Contest is an annual international music contest that hosts songwriters and singers from over 52 countries primarily European countries. This event is a live event and the residents of each country vote for the performances from the other countries to select the winner.\n",
    "This festival have been held annually since 1956 (except 2020, of coarse!) and making it the longest-running annual international music competition [(Source)](https://en.wikipedia.org/wiki/Eurovision_Song_Contest_2020). This event due to it's live nature, makes the hosting country as a hot tourism attraction and provide many opportunities. Based on [Wikipedia](https://en.wikipedia.org/wiki/Eurovision_Song_Contest), many of the top artists of the world have competed in the past years of this competition, including ABBA, Celine Dion, Julio Iglesias, Cliff Richard and Olivia Newton-John. Here is a picture my favorite singer while performing at Eurovision 2009.\n",
    "\n",
    "![image.png](https://www.abc.net.au/reslib/200905/r372723_1730742.jpg)\n",
    "\n",
    "**Image01: Alexander Rybak performing \"Fairytale\" the winner of 2009 Eurovision contest** [(Source)](https://www.escunited.com/forum/threads/norge-norway-2009-alexander-rybak-fairytale.3550/)\n",
    "\n",
    "## About the Data\n",
    "The data set used in this project is published by [TidyTuesday](https://www.tidytuesday.com/) on May 16, 2022. Based on the [data repository](https://github.com/rfordatascience/tidytuesday/tree/master/data/2022/2022-05-17)'s description, [Tanya Shapiro](https://github.com/tashapiro/eurovision-contest/blob/main/code/eurovision_scraping.R#L97-L98) and [Bob Rudis](https://twitter.com/hrbrmstr/status/1526299494811422721?s=20&t=1ShDVK93h06QEmNZvGmK0Q) contributed to the cleaning and the scraping of the data. This dataset contains tow sub-datasets: 1. Eurovision data, 2. Country voting data which comes from [Data.World](https://data.world/datagraver/eurovision-song-contest-scores-1975-2019).\n",
    "Throughout this project, we will focus on the Eurovision data.\n",
    "\n",
    "### Data Dictionary\n",
    "The data dictionary has been provided by [TidyTuesday](https://github.com/rfordatascience/tidytuesday/tree/master/data/2022/2022-05-17) which is presented below.\n",
    "\n",
    "|**Variable**       |**class**     | **Description**                                          |\n",
    "|:--------------|:---------| :--------- |\n",
    "|event          |character | Event Name, e.g. Helsinki 2007                       |\n",
    "|host_city      |character | Host city name, e.g. Helsinki                        |\n",
    "|year           |integer   | Event year, e.g. 2007                                |\n",
    "|host_country   |character | Host city country, e.g. Finland                      |\n",
    "|event_url      |character | Link to event                                        |\n",
    "|section        |character | Final, semi-final, first semi final, second-semi-final |\n",
    "|artist         |character | Name of performer/participant                        |\n",
    "|song           |character | Song title name                                      |\n",
    "|artist_url     |character | Link to participant bio                              |\n",
    "|image_url      |character | Link to participant image |\n",
    "|artist_country |character | Participant country, e.g. Austria                    |\n",
    "|country_emoji  |character | Emoji code for Country |\n",
    "|running_order  |integer   | Running order for the teams |\n",
    "|total_points   |integer   | Points                                               |\n",
    "|rank           |integer   | Numeric rank, e.g. 2                                 |\n",
    "|rank_ordinal   |character | Ordinal rank, e.g. 2nd                               |\n",
    "|qualified      |logical   | Is the team qualified |\n",
    "|winner         |logical   | Was this team the grand champion |\n",
    "\n",
    "**Table 01: The data dictionary presenting a brief description on the datasets' structure** [(Source)](https://github.com/rfordatascience/tidytuesday/blob/master/data/2022/2022-05-17/readme.md)\n",
    "\n",
    "### Data Describing and Record Counting\n",
    "As this step we are interested to evaluate some metrics about the data, like count of the records and value's range for numeric columns.\n",
    "#### Reading the Data\n",
    "The script below reads the data and stores it in the `data/raw` folder."
   ]
  },
  {
   "cell_type": "code",
   "execution_count": 2,
   "id": "4cd80000",
   "metadata": {},
   "outputs": [
    {
     "ename": "FileNotFoundError",
     "evalue": "[Errno 2] No such file or directory: '../data/raw/eurovision.csv'",
     "output_type": "error",
     "traceback": [
      "\u001b[0;31m---------------------------------------------------------------------------\u001b[0m",
      "\u001b[0;31mFileNotFoundError\u001b[0m                         Traceback (most recent call last)",
      "Cell \u001b[0;32mIn [2], line 1\u001b[0m\n\u001b[0;32m----> 1\u001b[0m raw_df \u001b[38;5;241m=\u001b[39m \u001b[43mpd\u001b[49m\u001b[38;5;241;43m.\u001b[39;49m\u001b[43mread_csv\u001b[49m\u001b[43m(\u001b[49m\u001b[38;5;124;43m\"\u001b[39;49m\u001b[38;5;124;43m../data/raw/eurovision.csv\u001b[39;49m\u001b[38;5;124;43m\"\u001b[39;49m\u001b[43m,\u001b[49m\u001b[43m \u001b[49m\u001b[43mindex_col\u001b[49m\u001b[38;5;241;43m=\u001b[39;49m\u001b[38;5;241;43m0\u001b[39;49m\u001b[43m)\u001b[49m\n",
      "File \u001b[0;32m/opt/miniconda3/envs/crdn/lib/python3.10/site-packages/pandas/util/_decorators.py:311\u001b[0m, in \u001b[0;36mdeprecate_nonkeyword_arguments.<locals>.decorate.<locals>.wrapper\u001b[0;34m(*args, **kwargs)\u001b[0m\n\u001b[1;32m    305\u001b[0m \u001b[38;5;28;01mif\u001b[39;00m \u001b[38;5;28mlen\u001b[39m(args) \u001b[38;5;241m>\u001b[39m num_allow_args:\n\u001b[1;32m    306\u001b[0m     warnings\u001b[38;5;241m.\u001b[39mwarn(\n\u001b[1;32m    307\u001b[0m         msg\u001b[38;5;241m.\u001b[39mformat(arguments\u001b[38;5;241m=\u001b[39marguments),\n\u001b[1;32m    308\u001b[0m         \u001b[38;5;167;01mFutureWarning\u001b[39;00m,\n\u001b[1;32m    309\u001b[0m         stacklevel\u001b[38;5;241m=\u001b[39mstacklevel,\n\u001b[1;32m    310\u001b[0m     )\n\u001b[0;32m--> 311\u001b[0m \u001b[38;5;28;01mreturn\u001b[39;00m \u001b[43mfunc\u001b[49m\u001b[43m(\u001b[49m\u001b[38;5;241;43m*\u001b[39;49m\u001b[43margs\u001b[49m\u001b[43m,\u001b[49m\u001b[43m \u001b[49m\u001b[38;5;241;43m*\u001b[39;49m\u001b[38;5;241;43m*\u001b[39;49m\u001b[43mkwargs\u001b[49m\u001b[43m)\u001b[49m\n",
      "File \u001b[0;32m/opt/miniconda3/envs/crdn/lib/python3.10/site-packages/pandas/io/parsers/readers.py:678\u001b[0m, in \u001b[0;36mread_csv\u001b[0;34m(filepath_or_buffer, sep, delimiter, header, names, index_col, usecols, squeeze, prefix, mangle_dupe_cols, dtype, engine, converters, true_values, false_values, skipinitialspace, skiprows, skipfooter, nrows, na_values, keep_default_na, na_filter, verbose, skip_blank_lines, parse_dates, infer_datetime_format, keep_date_col, date_parser, dayfirst, cache_dates, iterator, chunksize, compression, thousands, decimal, lineterminator, quotechar, quoting, doublequote, escapechar, comment, encoding, encoding_errors, dialect, error_bad_lines, warn_bad_lines, on_bad_lines, delim_whitespace, low_memory, memory_map, float_precision, storage_options)\u001b[0m\n\u001b[1;32m    663\u001b[0m kwds_defaults \u001b[38;5;241m=\u001b[39m _refine_defaults_read(\n\u001b[1;32m    664\u001b[0m     dialect,\n\u001b[1;32m    665\u001b[0m     delimiter,\n\u001b[0;32m   (...)\u001b[0m\n\u001b[1;32m    674\u001b[0m     defaults\u001b[38;5;241m=\u001b[39m{\u001b[38;5;124m\"\u001b[39m\u001b[38;5;124mdelimiter\u001b[39m\u001b[38;5;124m\"\u001b[39m: \u001b[38;5;124m\"\u001b[39m\u001b[38;5;124m,\u001b[39m\u001b[38;5;124m\"\u001b[39m},\n\u001b[1;32m    675\u001b[0m )\n\u001b[1;32m    676\u001b[0m kwds\u001b[38;5;241m.\u001b[39mupdate(kwds_defaults)\n\u001b[0;32m--> 678\u001b[0m \u001b[38;5;28;01mreturn\u001b[39;00m \u001b[43m_read\u001b[49m\u001b[43m(\u001b[49m\u001b[43mfilepath_or_buffer\u001b[49m\u001b[43m,\u001b[49m\u001b[43m \u001b[49m\u001b[43mkwds\u001b[49m\u001b[43m)\u001b[49m\n",
      "File \u001b[0;32m/opt/miniconda3/envs/crdn/lib/python3.10/site-packages/pandas/io/parsers/readers.py:575\u001b[0m, in \u001b[0;36m_read\u001b[0;34m(filepath_or_buffer, kwds)\u001b[0m\n\u001b[1;32m    572\u001b[0m _validate_names(kwds\u001b[38;5;241m.\u001b[39mget(\u001b[38;5;124m\"\u001b[39m\u001b[38;5;124mnames\u001b[39m\u001b[38;5;124m\"\u001b[39m, \u001b[38;5;28;01mNone\u001b[39;00m))\n\u001b[1;32m    574\u001b[0m \u001b[38;5;66;03m# Create the parser.\u001b[39;00m\n\u001b[0;32m--> 575\u001b[0m parser \u001b[38;5;241m=\u001b[39m \u001b[43mTextFileReader\u001b[49m\u001b[43m(\u001b[49m\u001b[43mfilepath_or_buffer\u001b[49m\u001b[43m,\u001b[49m\u001b[43m \u001b[49m\u001b[38;5;241;43m*\u001b[39;49m\u001b[38;5;241;43m*\u001b[39;49m\u001b[43mkwds\u001b[49m\u001b[43m)\u001b[49m\n\u001b[1;32m    577\u001b[0m \u001b[38;5;28;01mif\u001b[39;00m chunksize \u001b[38;5;129;01mor\u001b[39;00m iterator:\n\u001b[1;32m    578\u001b[0m     \u001b[38;5;28;01mreturn\u001b[39;00m parser\n",
      "File \u001b[0;32m/opt/miniconda3/envs/crdn/lib/python3.10/site-packages/pandas/io/parsers/readers.py:932\u001b[0m, in \u001b[0;36mTextFileReader.__init__\u001b[0;34m(self, f, engine, **kwds)\u001b[0m\n\u001b[1;32m    929\u001b[0m     \u001b[38;5;28mself\u001b[39m\u001b[38;5;241m.\u001b[39moptions[\u001b[38;5;124m\"\u001b[39m\u001b[38;5;124mhas_index_names\u001b[39m\u001b[38;5;124m\"\u001b[39m] \u001b[38;5;241m=\u001b[39m kwds[\u001b[38;5;124m\"\u001b[39m\u001b[38;5;124mhas_index_names\u001b[39m\u001b[38;5;124m\"\u001b[39m]\n\u001b[1;32m    931\u001b[0m \u001b[38;5;28mself\u001b[39m\u001b[38;5;241m.\u001b[39mhandles: IOHandles \u001b[38;5;241m|\u001b[39m \u001b[38;5;28;01mNone\u001b[39;00m \u001b[38;5;241m=\u001b[39m \u001b[38;5;28;01mNone\u001b[39;00m\n\u001b[0;32m--> 932\u001b[0m \u001b[38;5;28mself\u001b[39m\u001b[38;5;241m.\u001b[39m_engine \u001b[38;5;241m=\u001b[39m \u001b[38;5;28;43mself\u001b[39;49m\u001b[38;5;241;43m.\u001b[39;49m\u001b[43m_make_engine\u001b[49m\u001b[43m(\u001b[49m\u001b[43mf\u001b[49m\u001b[43m,\u001b[49m\u001b[43m \u001b[49m\u001b[38;5;28;43mself\u001b[39;49m\u001b[38;5;241;43m.\u001b[39;49m\u001b[43mengine\u001b[49m\u001b[43m)\u001b[49m\n",
      "File \u001b[0;32m/opt/miniconda3/envs/crdn/lib/python3.10/site-packages/pandas/io/parsers/readers.py:1216\u001b[0m, in \u001b[0;36mTextFileReader._make_engine\u001b[0;34m(self, f, engine)\u001b[0m\n\u001b[1;32m   1212\u001b[0m     mode \u001b[38;5;241m=\u001b[39m \u001b[38;5;124m\"\u001b[39m\u001b[38;5;124mrb\u001b[39m\u001b[38;5;124m\"\u001b[39m\n\u001b[1;32m   1213\u001b[0m \u001b[38;5;66;03m# error: No overload variant of \"get_handle\" matches argument types\u001b[39;00m\n\u001b[1;32m   1214\u001b[0m \u001b[38;5;66;03m# \"Union[str, PathLike[str], ReadCsvBuffer[bytes], ReadCsvBuffer[str]]\"\u001b[39;00m\n\u001b[1;32m   1215\u001b[0m \u001b[38;5;66;03m# , \"str\", \"bool\", \"Any\", \"Any\", \"Any\", \"Any\", \"Any\"\u001b[39;00m\n\u001b[0;32m-> 1216\u001b[0m \u001b[38;5;28mself\u001b[39m\u001b[38;5;241m.\u001b[39mhandles \u001b[38;5;241m=\u001b[39m \u001b[43mget_handle\u001b[49m\u001b[43m(\u001b[49m\u001b[43m  \u001b[49m\u001b[38;5;66;43;03m# type: ignore[call-overload]\u001b[39;49;00m\n\u001b[1;32m   1217\u001b[0m \u001b[43m    \u001b[49m\u001b[43mf\u001b[49m\u001b[43m,\u001b[49m\n\u001b[1;32m   1218\u001b[0m \u001b[43m    \u001b[49m\u001b[43mmode\u001b[49m\u001b[43m,\u001b[49m\n\u001b[1;32m   1219\u001b[0m \u001b[43m    \u001b[49m\u001b[43mencoding\u001b[49m\u001b[38;5;241;43m=\u001b[39;49m\u001b[38;5;28;43mself\u001b[39;49m\u001b[38;5;241;43m.\u001b[39;49m\u001b[43moptions\u001b[49m\u001b[38;5;241;43m.\u001b[39;49m\u001b[43mget\u001b[49m\u001b[43m(\u001b[49m\u001b[38;5;124;43m\"\u001b[39;49m\u001b[38;5;124;43mencoding\u001b[39;49m\u001b[38;5;124;43m\"\u001b[39;49m\u001b[43m,\u001b[49m\u001b[43m \u001b[49m\u001b[38;5;28;43;01mNone\u001b[39;49;00m\u001b[43m)\u001b[49m\u001b[43m,\u001b[49m\n\u001b[1;32m   1220\u001b[0m \u001b[43m    \u001b[49m\u001b[43mcompression\u001b[49m\u001b[38;5;241;43m=\u001b[39;49m\u001b[38;5;28;43mself\u001b[39;49m\u001b[38;5;241;43m.\u001b[39;49m\u001b[43moptions\u001b[49m\u001b[38;5;241;43m.\u001b[39;49m\u001b[43mget\u001b[49m\u001b[43m(\u001b[49m\u001b[38;5;124;43m\"\u001b[39;49m\u001b[38;5;124;43mcompression\u001b[39;49m\u001b[38;5;124;43m\"\u001b[39;49m\u001b[43m,\u001b[49m\u001b[43m \u001b[49m\u001b[38;5;28;43;01mNone\u001b[39;49;00m\u001b[43m)\u001b[49m\u001b[43m,\u001b[49m\n\u001b[1;32m   1221\u001b[0m \u001b[43m    \u001b[49m\u001b[43mmemory_map\u001b[49m\u001b[38;5;241;43m=\u001b[39;49m\u001b[38;5;28;43mself\u001b[39;49m\u001b[38;5;241;43m.\u001b[39;49m\u001b[43moptions\u001b[49m\u001b[38;5;241;43m.\u001b[39;49m\u001b[43mget\u001b[49m\u001b[43m(\u001b[49m\u001b[38;5;124;43m\"\u001b[39;49m\u001b[38;5;124;43mmemory_map\u001b[39;49m\u001b[38;5;124;43m\"\u001b[39;49m\u001b[43m,\u001b[49m\u001b[43m \u001b[49m\u001b[38;5;28;43;01mFalse\u001b[39;49;00m\u001b[43m)\u001b[49m\u001b[43m,\u001b[49m\n\u001b[1;32m   1222\u001b[0m \u001b[43m    \u001b[49m\u001b[43mis_text\u001b[49m\u001b[38;5;241;43m=\u001b[39;49m\u001b[43mis_text\u001b[49m\u001b[43m,\u001b[49m\n\u001b[1;32m   1223\u001b[0m \u001b[43m    \u001b[49m\u001b[43merrors\u001b[49m\u001b[38;5;241;43m=\u001b[39;49m\u001b[38;5;28;43mself\u001b[39;49m\u001b[38;5;241;43m.\u001b[39;49m\u001b[43moptions\u001b[49m\u001b[38;5;241;43m.\u001b[39;49m\u001b[43mget\u001b[49m\u001b[43m(\u001b[49m\u001b[38;5;124;43m\"\u001b[39;49m\u001b[38;5;124;43mencoding_errors\u001b[39;49m\u001b[38;5;124;43m\"\u001b[39;49m\u001b[43m,\u001b[49m\u001b[43m \u001b[49m\u001b[38;5;124;43m\"\u001b[39;49m\u001b[38;5;124;43mstrict\u001b[39;49m\u001b[38;5;124;43m\"\u001b[39;49m\u001b[43m)\u001b[49m\u001b[43m,\u001b[49m\n\u001b[1;32m   1224\u001b[0m \u001b[43m    \u001b[49m\u001b[43mstorage_options\u001b[49m\u001b[38;5;241;43m=\u001b[39;49m\u001b[38;5;28;43mself\u001b[39;49m\u001b[38;5;241;43m.\u001b[39;49m\u001b[43moptions\u001b[49m\u001b[38;5;241;43m.\u001b[39;49m\u001b[43mget\u001b[49m\u001b[43m(\u001b[49m\u001b[38;5;124;43m\"\u001b[39;49m\u001b[38;5;124;43mstorage_options\u001b[39;49m\u001b[38;5;124;43m\"\u001b[39;49m\u001b[43m,\u001b[49m\u001b[43m \u001b[49m\u001b[38;5;28;43;01mNone\u001b[39;49;00m\u001b[43m)\u001b[49m\u001b[43m,\u001b[49m\n\u001b[1;32m   1225\u001b[0m \u001b[43m\u001b[49m\u001b[43m)\u001b[49m\n\u001b[1;32m   1226\u001b[0m \u001b[38;5;28;01massert\u001b[39;00m \u001b[38;5;28mself\u001b[39m\u001b[38;5;241m.\u001b[39mhandles \u001b[38;5;129;01mis\u001b[39;00m \u001b[38;5;129;01mnot\u001b[39;00m \u001b[38;5;28;01mNone\u001b[39;00m\n\u001b[1;32m   1227\u001b[0m f \u001b[38;5;241m=\u001b[39m \u001b[38;5;28mself\u001b[39m\u001b[38;5;241m.\u001b[39mhandles\u001b[38;5;241m.\u001b[39mhandle\n",
      "File \u001b[0;32m/opt/miniconda3/envs/crdn/lib/python3.10/site-packages/pandas/io/common.py:786\u001b[0m, in \u001b[0;36mget_handle\u001b[0;34m(path_or_buf, mode, encoding, compression, memory_map, is_text, errors, storage_options)\u001b[0m\n\u001b[1;32m    781\u001b[0m \u001b[38;5;28;01melif\u001b[39;00m \u001b[38;5;28misinstance\u001b[39m(handle, \u001b[38;5;28mstr\u001b[39m):\n\u001b[1;32m    782\u001b[0m     \u001b[38;5;66;03m# Check whether the filename is to be opened in binary mode.\u001b[39;00m\n\u001b[1;32m    783\u001b[0m     \u001b[38;5;66;03m# Binary mode does not support 'encoding' and 'newline'.\u001b[39;00m\n\u001b[1;32m    784\u001b[0m     \u001b[38;5;28;01mif\u001b[39;00m ioargs\u001b[38;5;241m.\u001b[39mencoding \u001b[38;5;129;01mand\u001b[39;00m \u001b[38;5;124m\"\u001b[39m\u001b[38;5;124mb\u001b[39m\u001b[38;5;124m\"\u001b[39m \u001b[38;5;129;01mnot\u001b[39;00m \u001b[38;5;129;01min\u001b[39;00m ioargs\u001b[38;5;241m.\u001b[39mmode:\n\u001b[1;32m    785\u001b[0m         \u001b[38;5;66;03m# Encoding\u001b[39;00m\n\u001b[0;32m--> 786\u001b[0m         handle \u001b[38;5;241m=\u001b[39m \u001b[38;5;28;43mopen\u001b[39;49m\u001b[43m(\u001b[49m\n\u001b[1;32m    787\u001b[0m \u001b[43m            \u001b[49m\u001b[43mhandle\u001b[49m\u001b[43m,\u001b[49m\n\u001b[1;32m    788\u001b[0m \u001b[43m            \u001b[49m\u001b[43mioargs\u001b[49m\u001b[38;5;241;43m.\u001b[39;49m\u001b[43mmode\u001b[49m\u001b[43m,\u001b[49m\n\u001b[1;32m    789\u001b[0m \u001b[43m            \u001b[49m\u001b[43mencoding\u001b[49m\u001b[38;5;241;43m=\u001b[39;49m\u001b[43mioargs\u001b[49m\u001b[38;5;241;43m.\u001b[39;49m\u001b[43mencoding\u001b[49m\u001b[43m,\u001b[49m\n\u001b[1;32m    790\u001b[0m \u001b[43m            \u001b[49m\u001b[43merrors\u001b[49m\u001b[38;5;241;43m=\u001b[39;49m\u001b[43merrors\u001b[49m\u001b[43m,\u001b[49m\n\u001b[1;32m    791\u001b[0m \u001b[43m            \u001b[49m\u001b[43mnewline\u001b[49m\u001b[38;5;241;43m=\u001b[39;49m\u001b[38;5;124;43m\"\u001b[39;49m\u001b[38;5;124;43m\"\u001b[39;49m\u001b[43m,\u001b[49m\n\u001b[1;32m    792\u001b[0m \u001b[43m        \u001b[49m\u001b[43m)\u001b[49m\n\u001b[1;32m    793\u001b[0m     \u001b[38;5;28;01melse\u001b[39;00m:\n\u001b[1;32m    794\u001b[0m         \u001b[38;5;66;03m# Binary mode\u001b[39;00m\n\u001b[1;32m    795\u001b[0m         handle \u001b[38;5;241m=\u001b[39m \u001b[38;5;28mopen\u001b[39m(handle, ioargs\u001b[38;5;241m.\u001b[39mmode)\n",
      "\u001b[0;31mFileNotFoundError\u001b[0m: [Errno 2] No such file or directory: '../data/raw/eurovision.csv'"
     ]
    }
   ],
   "source": [
    "raw_df = pd.read_csv(\"../data/raw/eurovision.csv\", index_col=0)"
   ]
  },
  {
   "cell_type": "markdown",
   "id": "903f2061-33d7-482a-968f-fdc12d75fefa",
   "metadata": {},
   "source": [
    "#### Data Exploration\n",
    "Using `info` and `describe` method to evaluate the data."
   ]
  },
  {
   "cell_type": "code",
   "execution_count": null,
   "id": "97c880f2-769b-4b7f-abaf-b91c52e821e6",
   "metadata": {},
   "outputs": [],
   "source": [
    "raw_df.head()"
   ]
  },
  {
   "cell_type": "code",
   "execution_count": null,
   "id": "f3d0234b-13ca-4cdd-b956-019a092d7138",
   "metadata": {},
   "outputs": [],
   "source": [
    "raw_df.info()"
   ]
  },
  {
   "cell_type": "code",
   "execution_count": null,
   "id": "4648dd0b-11e8-441e-b1be-a52a21298736",
   "metadata": {},
   "outputs": [],
   "source": [
    "raw_df.describe()"
   ]
  },
  {
   "cell_type": "markdown",
   "id": "c2a9bfe0",
   "metadata": {},
   "source": [
    "The dataset presents 2005 records while some columns like `image_url`, `song`, `total_points`, `rank`, and `rank_ordinal` are showing some null values.\n",
    "The numeric column ranges are also showing the range for the year of the recorded data and etc. Using `pandas-profiling` library helps to access a rough idea about the data, correlations, and distributions.\n",
    "In order to avoid high HTMl load and rendering issues the Pandas Profiling codes have been commented below:\n",
    "\n",
    "`profile = ProfileReport(raw_df)`\n",
    "\n",
    "`profile`\n",
    "\n",
    "However, two interesting charts from pandas profiling report has been provided below. Pearson's r, which is a measure of linear correlation between two variables.\n",
    "\n",
    "![image.png](eda_data/figures/pearson_correlation_numerical_columns.png)\n",
    "\n",
    "**Figure 01: The Pearson's r correlation of Eurovision dataset for numirical values**\n",
    "\n",
    "\n",
    "And the missing values dendogram, that allows us visualize the variable completion.\n",
    "\n",
    "![image.png](eda_data/figures/missing_values_dendogram.png)\n",
    "\n",
    "**Figure 02: The missing values dendogram of Eurovision dataset for numirical values**"
   ]
  },
  {
   "cell_type": "markdown",
   "id": "4db4e995-f6c7-4cdb-b9b7-5bb80c79ca53",
   "metadata": {},
   "source": [
    "#### Missing Values Exploration\n",
    "One of the items reported in `pandas-profiling` .report is the count of missing values. So we'll explore them on a sorted dataset based on the year. To see how recent the missing values have been reported."
   ]
  },
  {
   "cell_type": "code",
   "execution_count": null,
   "id": "a551a01a-216c-4a22-be7a-be4f002c050c",
   "metadata": {},
   "outputs": [],
   "source": [
    "alt.Chart(\n",
    "    raw_df.sort_values(\n",
    "        'year',\n",
    "        ignore_index=True\n",
    "    ).isna().reset_index().melt(\n",
    "        id_vars='index'\n",
    "    )\n",
    ").mark_rect().encode(\n",
    "    alt.X('index:O', axis=None),\n",
    "    alt.Y('variable', title=None),\n",
    "    alt.Color('value', title='NaN'),\n",
    "    alt.Stroke('value')\n",
    ").properties(\n",
    "    width=800,\n",
    "    title=\"The accurance of Null values in the dataset sorted based on the year\"\n",
    ")"
   ]
  },
  {
   "cell_type": "markdown",
   "id": "34123ccd-c942-4a2e-b230-859ea71c306d",
   "metadata": {},
   "source": [
    "**Figure 03: The assurance of the null values in the dataset**\n",
    "\n",
    "#### Correlation Exploration\n",
    "There are four numeric columns in the data set, `year`, `running_order`, `total_points`, and `rank`. The pair-wise correlation of numeric values will be helpful to understand the probable correlations and trends."
   ]
  },
  {
   "cell_type": "code",
   "execution_count": null,
   "id": "185cd5d3-ec3c-4f74-a378-dbd23692f706",
   "metadata": {},
   "outputs": [],
   "source": [
    "numeric_cols = raw_df.select_dtypes('number').columns.to_list()\n",
    "alt.Chart(raw_df).mark_point(opacity=0.3, size=10).encode(\n",
    "     alt.X(alt.repeat('column'), type='quantitative', scale=alt.Scale(zero=False)),\n",
    "     alt.Y(alt.repeat('row'), type='quantitative', scale=alt.Scale(zero=False))\n",
    ").properties(\n",
    "    width=200,\n",
    "    height=200\n",
    ").repeat(\n",
    "    row=numeric_cols,\n",
    "    column=numeric_cols\n",
    ").properties(\n",
    "    title=\"Pair-wise correlation of numeric columns in Eurovision dataset\"\n",
    ")"
   ]
  },
  {
   "cell_type": "markdown",
   "id": "424626eb-b58b-4b34-a747-36851cbc26ac",
   "metadata": {},
   "source": [
    "**Figure 04: The pair-wise correlation of numeric columns in Eurovision dataset**\n",
    "\n",
    "## References\n",
    "- [TidyTuesday Data Repository](https://github.com/rfordatascience/tidytuesday/tree/master/data/2022/2022-05-17)\n",
    "- [Eurovision TV](https://eurovision.tv/)\n",
    "- [WikiPedia](https://en.wikipedia.org/wiki/Eurovision_Song_Contest)"
   ]
  },
  {
   "cell_type": "code",
   "execution_count": null,
   "id": "b81b8895-c882-4770-aa8f-89bb89d8026d",
   "metadata": {},
   "outputs": [],
   "source": []
  }
 ],
 "metadata": {
  "kernelspec": {
   "display_name": "Python [conda env:crdn]",
   "language": "python",
   "name": "conda-env-crdn-py"
  },
  "language_info": {
   "codemirror_mode": {
    "name": "ipython",
    "version": 3
   },
   "file_extension": ".py",
   "mimetype": "text/x-python",
   "name": "python",
   "nbconvert_exporter": "python",
   "pygments_lexer": "ipython3",
   "version": "3.10.6"
  },
  "vscode": {
   "interpreter": {
    "hash": "ab8f7f020783ba1f93b78f4203be0a5dd51a528466ca55469f2e6c9f8825e861"
   }
  }
 },
 "nbformat": 4,
 "nbformat_minor": 5
}
